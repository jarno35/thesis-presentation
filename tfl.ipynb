{
 "cells": [
  {
   "cell_type": "markdown",
   "metadata": {},
   "source": [
    "# Nonparametric Bayesian label prediction on a graph\n",
    "\n",
    "This script generates the plots and parts of the storyline for the presentation of the doctoral thesis \"Nonparametric Bayesian label prediction on a graph\" that is comprehensible to non-specialists. It includes an analysis of simulated station traffic data on the Transport for London network (tube, overground, DLR, tramlink). The edges in the network are actual line connections and stations that are within walking distance as per the [TfL network])(http://content.tfl.gov.uk/large-print-tube-map.pdf) (May 2019).\n",
    "\n",
    "* The data folder contains the edge list of the network and station coordinates and zones in .csv format. The Lines.xlsx file contains the edge list in .xlsx format with a separate sheet per line.\n",
    "* This notebook contains the storyline, plots and example analysis."
   ]
  },
  {
   "cell_type": "code",
   "execution_count": 1,
   "metadata": {},
   "outputs": [],
   "source": [
    "import csv  # read station coordinates and zones\n",
    "from matplotlib.colors import LinearSegmentedColormap  # to make custom RAG colormap\n",
    "import matplotlib.pyplot as plt\n",
    "import networkx as nx\n",
    "import numpy as np\n",
    "from scipy.sparse import diags  # sparse diagonal matrices\n",
    "from scipy.sparse.linalg import eigsh  # eigendecomposition"
   ]
  },
  {
   "cell_type": "markdown",
   "metadata": {},
   "source": [
    "## Introduction\n",
    "\n",
    "My research is about label prediction on a graph. A graph, or network, I encounter or hear about almost every day is the tube in London. This presentation will introduce some of the concepts related to my thesis to give you some idea of its contents.\n",
    "\n",
    "Let's have a look at the TfL (Transport for London) network. This contains the tube, DLR, cable car, overground, TfL rail and trams."
   ]
  }
 ],
 "metadata": {
  "kernelspec": {
   "display_name": "Python 3",
   "language": "python",
   "name": "python3"
  },
  "language_info": {
   "codemirror_mode": {
    "name": "ipython",
    "version": 3
   },
   "file_extension": ".py",
   "mimetype": "text/x-python",
   "name": "python",
   "nbconvert_exporter": "python",
   "pygments_lexer": "ipython3",
   "version": "3.7.3"
  }
 },
 "nbformat": 4,
 "nbformat_minor": 4
}
